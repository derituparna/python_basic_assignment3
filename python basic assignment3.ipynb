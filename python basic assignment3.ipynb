{
 "cells": [
  {
   "cell_type": "markdown",
   "id": "10695e02",
   "metadata": {},
   "source": [
    "1. Why are functions advantageous to have in your programs?"
   ]
  },
  {
   "cell_type": "code",
   "execution_count": null,
   "id": "6e946624",
   "metadata": {},
   "outputs": [],
   "source": [
    "=>Functions reduce the need for duplicate code. This makes programs shorter, easier to read, and easier to update."
   ]
  },
  {
   "cell_type": "markdown",
   "id": "3102a76c",
   "metadata": {},
   "source": [
    "2. When does the code in a function run: when its specified or when it&#39;s called?"
   ]
  },
  {
   "cell_type": "code",
   "execution_count": null,
   "id": "53fa6fda",
   "metadata": {},
   "outputs": [],
   "source": [
    "=>The code in a function executes when the function is called, not when the function is defined."
   ]
  },
  {
   "cell_type": "markdown",
   "id": "567c5267",
   "metadata": {},
   "source": [
    "3. What statement creates a function?"
   ]
  },
  {
   "cell_type": "code",
   "execution_count": null,
   "id": "3b4587dd",
   "metadata": {},
   "outputs": [],
   "source": [
    "=>def statement."
   ]
  },
  {
   "cell_type": "markdown",
   "id": "76c18fd5",
   "metadata": {},
   "source": [
    "4. What is the difference between a function and a function call?"
   ]
  },
  {
   "cell_type": "code",
   "execution_count": null,
   "id": "f5560360",
   "metadata": {},
   "outputs": [],
   "source": [
    "=>A function consists of the def statement and A function call is what moves the program execution into the function."
   ]
  },
  {
   "cell_type": "markdown",
   "id": "e8232358",
   "metadata": {},
   "source": [
    "5. How many global scopes are there in a Python program? How many local scopes?"
   ]
  },
  {
   "cell_type": "code",
   "execution_count": null,
   "id": "0f84e3b2",
   "metadata": {},
   "outputs": [],
   "source": [
    "=>There is one global scope, and a local scope is created whenever is called a Function."
   ]
  },
  {
   "cell_type": "markdown",
   "id": "31afa88c",
   "metadata": {},
   "source": [
    "6. What happens to variables in a local scope when the function call returns?"
   ]
  },
  {
   "cell_type": "markdown",
   "id": "9f3a430b",
   "metadata": {},
   "source": [
    "7. What is the concept of a return value? Is it possible to have a return value in an expression?"
   ]
  },
  {
   "cell_type": "code",
   "execution_count": null,
   "id": "a2c8ae92",
   "metadata": {},
   "outputs": [],
   "source": [
    "=>A return value is the value that a function call evaluates to. Like any value, \n",
    "a return value can be used as part of an expression."
   ]
  },
  {
   "cell_type": "markdown",
   "id": "d26dc47e",
   "metadata": {},
   "source": [
    "8. If a function does not have a return statement, what is the return value of a call to that function?"
   ]
  },
  {
   "cell_type": "code",
   "execution_count": null,
   "id": "22bd898a",
   "metadata": {},
   "outputs": [],
   "source": [
    "=>If there is no return statement for a function, its return value is None."
   ]
  },
  {
   "cell_type": "markdown",
   "id": "b202cfd1",
   "metadata": {},
   "source": [
    "10. What is the data type of None?"
   ]
  },
  {
   "cell_type": "code",
   "execution_count": null,
   "id": "2994a4d6",
   "metadata": {},
   "outputs": [],
   "source": [
    "=>The data type of None is NoneType."
   ]
  },
  {
   "cell_type": "markdown",
   "id": "49fcd14b",
   "metadata": {},
   "source": [
    "12. If you had a bacon() feature in a spam module, what would you call it after importing spam?"
   ]
  },
  {
   "cell_type": "code",
   "execution_count": null,
   "id": "c0fe1a68",
   "metadata": {},
   "outputs": [],
   "source": [
    "=>spam.bacon()."
   ]
  },
  {
   "cell_type": "markdown",
   "id": "ad73620a",
   "metadata": {},
   "source": [
    "13. What can you do to save a programme from crashing if it encounters an error?"
   ]
  },
  {
   "cell_type": "code",
   "execution_count": null,
   "id": "58f8abb3",
   "metadata": {},
   "outputs": [],
   "source": [
    "=> try clause"
   ]
  },
  {
   "cell_type": "markdown",
   "id": "f5f5f030",
   "metadata": {},
   "source": [
    "14. What is the purpose of the try clause? What is the purpose of the except clause?"
   ]
  },
  {
   "cell_type": "code",
   "execution_count": null,
   "id": "e413703a",
   "metadata": {},
   "outputs": [],
   "source": [
    "=>The code that could potentially cause an error goes in the try clause.\n",
    "  The code that executes if an error happens goes in the except clause."
   ]
  }
 ],
 "metadata": {
  "kernelspec": {
   "display_name": "Python 3",
   "language": "python",
   "name": "python3"
  },
  "language_info": {
   "codemirror_mode": {
    "name": "ipython",
    "version": 3
   },
   "file_extension": ".py",
   "mimetype": "text/x-python",
   "name": "python",
   "nbconvert_exporter": "python",
   "pygments_lexer": "ipython3",
   "version": "3.8.8"
  }
 },
 "nbformat": 4,
 "nbformat_minor": 5
}
